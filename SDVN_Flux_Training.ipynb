{
  "cells": [
    {
      "cell_type": "markdown",
      "metadata": {
        "id": "kmK4UEj1-gHB"
      },
      "source": [
        "# [![](https://img.shields.io/badge/Video-Hướng%20dẫn-ff0000)](https://youtu.be/798qchqWty4) [![](https://img.shields.io/badge/Design-stablediffusion.vn-0075ff)](https://stablediffusion.vn) [![](https://img.shields.io/badge/Ver-2.2-0075ff)](https://stablediffusion.vn/update/) [![](https://img.shields.io/badge/All%20Tools-sdvn.me-0075ff)](https://stablediffusion.vn/bo-cong-cu/) [![](https://img.shields.io/badge/SDVN-Library-green)](https://bit.ly/sdvn-lib) [![](https://img.shields.io/badge/Khoá%20học-SD%20Flux-red)](https://hungdiffusion.com/) [![](https://img.shields.io/badge/Group-Support-0075ff)](https://www.facebook.com/groups/stablediffusion.vn) [![](https://img.shields.io/discord/813085864355037235?color=blue&label=Discord&logo=Discord)](https://discord.gg/5SEtApPeyG)\n",
        "---\n",
        "🧨 `UI Colab - A100, UI Gradio - L4/A100`\n",
        "\n",
        "🧨 `Thêm Caption API cho Gemini và ChatGPT`\n",
        "\n",
        "🧨 `Bật lại chức năng Sampler khi train`"
      ]
    },
    {
      "cell_type": "markdown",
      "metadata": {
        "id": "2DRFiKdj5UWy"
      },
      "source": [
        "#☕️ 1.Cài đặt"
      ]
    },
    {
      "cell_type": "code",
      "execution_count": null,
      "metadata": {
        "cellView": "form",
        "id": "Gip8TXBMjVEP"
      },
      "outputs": [],
      "source": [
        "#@title ✨ Cài đặt UI\n",
        "\n",
        "# @markdown 🟡 `Lựa chọn Gradio nếu muốn train trực tiếp với giao diện UI (Sử dụng link gradio) `\n",
        "%cd /content\n",
        "from google.colab import drive\n",
        "drive.mount('/content/drive')\n",
        "\n",
        "UI = 'Colab' # @param ['Gradio','Colab']\n",
        "UpdateRepo = False # @param {\"type\":\"boolean\"}\n",
        "\n",
        "root_dir = \"/content\"\n",
        "repo_dir = f\"{root_dir}/SDVN-training-colab-flux\"\n",
        "toolkit_dir = f\"{repo_dir}/ai-toolkit\"\n",
        "config_dir = f\"{repo_dir}/Config\"\n",
        "data_dir = f\"/content/drive/MyDrive/SD-Data\"\n",
        "\n",
        "%cd {root_dir}\n",
        "import os\n",
        "if not os.path.exists(repo_dir):\n",
        "  !git clone  --recurse-submodules https://github.com/StableDiffusionVN/SDVN-training-colab-flux {repo_dir}\n",
        "  %env TF_CPP_MIN_LOG_LEVEL=1\n",
        "  %env LD_PRELOAD={repo_dir}/libtcmalloc_minimal.so.4\n",
        "\n",
        "if UpdateRepo:\n",
        "  %cd {toolkit_dir}\n",
        "  !git checkout main\n",
        "  !git pull\n",
        "  !pip install -q -r /content/SDVN-training-colab-flux/ai-toolkit/requirements.txt\n",
        "  !pip install OpenAI google-genai\n",
        "else:\n",
        "  !pip install -q -r {repo_dir}/requirements.txt\n",
        "\n",
        "%run {repo_dir}/TrainScript.ipynb\n",
        "\n",
        "if UI == \"Gradio\":\n",
        "  !rm -r {toolkit_dir}/output\n",
        "  !ln -s {data_dir}/Lora {toolkit_dir}/output\n",
        "  !python {toolkit_dir}/flux_train_ui.py\n"
      ]
    },
    {
      "cell_type": "markdown",
      "metadata": {
        "id": "4Xd6BfhD5YHU"
      },
      "source": [
        "#⏳ 2. Cấu hình train"
      ]
    },
    {
      "cell_type": "code",
      "execution_count": null,
      "metadata": {
        "cellView": "form",
        "id": "I7b6wRv7FICD"
      },
      "outputs": [],
      "source": [
        "#@title ✨ 2.1 Xử lý dữ liệu\n",
        "#@markdown [![](https://img.shields.io/badge/Caption-Tools-blue)](https://colab.research.google.com/github/StableDiffusionVN/SDVN-training-colab-flux/blob/main/SDVN_Caption_Tools.ipynb)\n",
        "\n",
        "# @markdown 🟡 `Train nhiều lora bằng cách nhập nhiều thư mục, cách nhau bằng dấu phẩy (,)`\n",
        "TrainFolder = \"/content/drive/MyDrive/SD-Data/TrainData\"  # @param {type:'string'}\n",
        "DataClean = False #@param {type:\"boolean\"}\n",
        "No_gen_caption = True #@param {type:\"boolean\"}\n",
        "# @markdown 🟡 `OCR Prompt`\n",
        "Caption = 'Florence' # @param ['None','Blip','Florence', 'Joy_Caption', 'APIGemini | 2.0 Flash', 'APIGemini | 2.0 Flash Lite', 'APIOpenAI | GPT 4-o mini']\n",
        "APIkey = \"\" # @param {type:'string'}\n",
        "Caption_Length = \"Medium\" # @param [\"Short\",\"Medium\",\"Long\"]\n",
        "# @markdown 🟡 `Joy Caption Extra`\n",
        "Joy_Type = \"Training Prompt\" # @param [\"Descriptive\", \"Descriptive (Informal)\", \"Training Prompt\", \"MidJourney\", \"Booru tag list\", \"Booru-like tag list\", \"Art Critic\", \"Product Listing\", \"Social Media Post\"]\n",
        "Joy_Extra_Option = \"\" # @param [\"\",\"If there is a person/character in the image you must refer to them as {name}.\",\"Do NOT include information about people/characters that cannot be changed (like ethnicity, gender, etc), but do still include changeable attributes (like hair style).\",\"Include information about lighting.\",\"Include information about camera angle.\",\"Include information about whether there is a watermark or not.\",\"Include information about whether there are JPEG artifacts or not.\",\"If it is a photo you MUST include information about what camera was likely used and details such as aperture, shutter speed, ISO, etc.\",\"Do NOT include anything sexual; keep it PG.\",\"Do NOT mention the image's resolution.\",\"You MUST include information about the subjective aesthetic quality of the image from low to very high.\",\"Include information on the image's composition style, such as leading lines, rule of thirds, or symmetry.\",\"Do NOT mention any text that is in the image.\",\"Specify the depth of field and whether the background is in focus or blurred.\",\"If applicable, mention the likely use of artificial or natural lighting sources.\",\"Do NOT use any ambiguous language.\",\"Include whether the image is sfw, suggestive, or nsfw.\",\"ONLY describe the most important elements of the image.\"] {\"allow-input\":true}\n",
        "Joy_Character_Name = \"\" # @param {type:'string'}\n",
        "Joy_Custom_Prompt = \"\" # @param {type:'string'}\n",
        "# @markdown 🟡 `API Caption`\n",
        "API_Prompt = \"\" # @param {type:'string'}\n",
        "# @markdown 🟡 `Thêm caption tuỳ chọn`\n",
        "Custom_Caption = \"\" # @param {type:'string'}\n",
        "AddFolderName = False #@param {type:\"boolean\"}\n",
        "Remove_Caption = False #@param {type:\"boolean\"}\n",
        "Append = False #@param {type:\"boolean\"}\n",
        "\n",
        "if No_gen_caption == True:\n",
        "  Caption = 'None'\n",
        "  Custom_Caption = ''\n",
        "  AddFolderName = False\n",
        "extension =\".txt\"\n",
        "train_folder_list = TrainFolder.split(\",\")\n",
        "\n",
        "delete_specific_models()\n",
        "if Caption == 'Joy_Caption':\n",
        "  #Load Joy_Model\n",
        "  # Load CLIP\n",
        "  !git clone https://huggingface.co/spaces/fancyfeast/joy-caption-alpha-two /content/joy-caption-alpha-two\n",
        "\n",
        "  print(\"Loading CLIP\")\n",
        "  clip_processor = AutoProcessor.from_pretrained(CLIP_PATH)\n",
        "  clip_model = AutoModel.from_pretrained(CLIP_PATH)\n",
        "  clip_model = clip_model.vision_model\n",
        "\n",
        "  assert (CHECKPOINT_PATH / \"clip_model.pt\").exists()\n",
        "  print(\"Loading VLM's custom vision model\")\n",
        "  checkpoint = torch.load(CHECKPOINT_PATH / \"clip_model.pt\", map_location='cpu')\n",
        "  checkpoint = {k.replace(\"_orig_mod.module.\", \"\"): v for k, v in checkpoint.items()}\n",
        "  clip_model.load_state_dict(checkpoint)\n",
        "  del checkpoint\n",
        "\n",
        "  clip_model.eval()\n",
        "  clip_model.requires_grad_(False)\n",
        "  clip_model.to(\"cuda\")\n",
        "\n",
        "  # Tokenizer\n",
        "  print(\"Loading tokenizer\")\n",
        "  tokenizer = AutoTokenizer.from_pretrained(CHECKPOINT_PATH / \"text_model\", use_fast=True)\n",
        "  assert isinstance(tokenizer, PreTrainedTokenizer) or isinstance(tokenizer, PreTrainedTokenizerFast), f\"Tokenizer is of type {type(tokenizer)}\"\n",
        "\n",
        "  # LLM\n",
        "  print(\"Loading LLM\")\n",
        "  print(\"Loading VLM's custom text model\")\n",
        "  text_model = AutoModelForCausalLM.from_pretrained(CHECKPOINT_PATH / \"text_model\", device_map=0, torch_dtype=torch.bfloat16)\n",
        "  text_model.eval()\n",
        "\n",
        "  # Image Adapter\n",
        "  print(\"Loading image adapter\")\n",
        "  image_adapter = ImageAdapter(clip_model.config.hidden_size, text_model.config.hidden_size, False, False, 38, False)\n",
        "  image_adapter.load_state_dict(torch.load(CHECKPOINT_PATH / \"image_adapter.pt\", map_location=\"cpu\"))\n",
        "  image_adapter.eval()\n",
        "  image_adapter.to(\"cuda\")\n",
        "\n",
        "Cap_prompt = {\n",
        "    'Short':['<CAPTION>',10,30,'short'],\n",
        "    'Medium':['<DETAILED_CAPTION>',10,100,'medium-length'],\n",
        "    'Long':['<MORE_DETAILED_CAPTION>',10,150,'very long']\n",
        "}\n",
        "\n",
        "for folder in train_folder_list:\n",
        "  if DataClean == True :\n",
        "    %cd /content\n",
        "    clean_directory(folder)\n",
        "  if Caption != \"None\":\n",
        "    caption_dir(folder,Cap_prompt[Caption_Length][0])\n",
        "  if AddFolderName:\n",
        "    add_forder_name(folder)\n",
        "  if Custom_Caption != \"\":\n",
        "    process_dir(folder, Custom_Caption, Append, Remove_Caption)\n",
        "\n",
        "delete_specific_models()"
      ]
    },
    {
      "cell_type": "code",
      "execution_count": null,
      "metadata": {
        "cellView": "form",
        "id": "ADTRzQt5pS5F"
      },
      "outputs": [],
      "source": [
        "#@title ⚙️ 2.2 Cài đặt train\n",
        "Low_VRAM = False\n",
        "Lora_name = \"lora_name\" # @param {\"type\":\"string\",\"placeholder\":\"Tên lora\"}\n",
        "OutputFolder = \"/content/drive/MyDrive/SD-Data/Lora\" #@param {type:'string'}\n",
        "# @markdown 🟡 `Điều chỉnh steps theo mức độ train mong muốn, các thư mục đặt tên theo cú pháp {steps}_{name} sẽ tự nhận steps riêng theo tên`\n",
        "Steps = 1000 #@param {type:'number'}\n",
        "Save_steps = 200 #@param {type:'number'}\n",
        "Batch_size = 4 #@param {type:'number'}\n",
        "# @markdown 🟡 `Các thông số nên để theo mặc định`\n",
        "Lr = 1e-4 #@param {type:'number'}\n",
        "Dim = 16 #@param {type:'number'}\n",
        "Alpha = 16 #@param {type:'number'}\n",
        "Resolution = \"512, 768, 1024\" #@param {type:'string'}\n",
        "Train_TexEncoder = False\n",
        "Sampler_Prompt = \"\" #@param {type:'string'}\n",
        "Sampler_Steps = 100 #@param {type:'number'}\n",
        "\n",
        "folder_train = []\n",
        "for folder in train_folder_list:\n",
        "  if len(get_supported_images(folder)) > 0:\n",
        "    folder_dic = {\n",
        "    \"path\": folder,\n",
        "    \"steps\": get_steps(folder)[0],\n",
        "    \"name\": get_steps(folder)[1].replace(\" \", \"_\")\n",
        "    }\n",
        "    folder_train.append(folder_dic)\n",
        "  else:\n",
        "    print(f\"Thư mục [ {folder} ] có thể không chứa ảnh được hỗ trợ, hãy kiểm tra lại (.png, .jpg, .jpeg, .webp, .bmp, .JPG, .JPEG, .PNG)\")\n",
        "\n",
        "for folder in folder_train:\n",
        "  config(folder)\n"
      ]
    },
    {
      "cell_type": "markdown",
      "metadata": {
        "id": "0zE_WGA-G5WC"
      },
      "source": [
        "#3. 🧨 Train"
      ]
    },
    {
      "cell_type": "code",
      "execution_count": null,
      "metadata": {
        "cellView": "form",
        "id": "Q7V9SS8gxnDy"
      },
      "outputs": [],
      "source": [
        "#@title ⏳ Run Lora Train\n",
        "AutoDisconect = False #@param {type:\"boolean\"}\n",
        "train()\n",
        "if AutoDisconect:\n",
        "    from time import sleep\n",
        "    sleep(180)\n",
        "    from google.colab import runtime\n",
        "    runtime.unassign()"
      ]
    }
  ],
  "metadata": {
    "accelerator": "GPU",
    "colab": {
      "collapsed_sections": [
        "kmK4UEj1-gHB"
      ],
      "gpuType": "A100",
      "machine_shape": "hm",
      "private_outputs": true,
      "provenance": []
    },
    "kernelspec": {
      "display_name": "base",
      "language": "python",
      "name": "python3"
    },
    "language_info": {
      "name": "python",
      "version": "3.11.9"
    }
  },
  "nbformat": 4,
  "nbformat_minor": 0
}